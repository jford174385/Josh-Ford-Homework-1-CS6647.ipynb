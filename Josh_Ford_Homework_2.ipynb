{
  "nbformat": 4,
  "nbformat_minor": 0,
  "metadata": {
    "colab": {
      "provenance": [],
      "authorship_tag": "ABX9TyMZ/cqcKoQSjcEdDuXcoOtt",
      "include_colab_link": true
    },
    "kernelspec": {
      "name": "python3",
      "display_name": "Python 3"
    },
    "language_info": {
      "name": "python"
    }
  },
  "cells": [
    {
      "cell_type": "markdown",
      "metadata": {
        "id": "view-in-github",
        "colab_type": "text"
      },
      "source": [
        "<a href=\"https://colab.research.google.com/github/jford174385/Josh-Ford-Homework-1-CS6647.ipynb/blob/main/Josh_Ford_Homework_2.ipynb\" target=\"_parent\"><img src=\"https://colab.research.google.com/assets/colab-badge.svg\" alt=\"Open In Colab\"/></a>"
      ]
    },
    {
      "cell_type": "code",
      "execution_count": 1,
      "metadata": {
        "colab": {
          "base_uri": "https://localhost:8080/"
        },
        "id": "600_Z1x8MK6w",
        "outputId": "285db5f8-656b-4e4c-a118-3f356f15c413"
      },
      "outputs": [
        {
          "output_type": "stream",
          "name": "stdout",
          "text": [
            "Generating 3 random integer numbers between 100 and 999 divisible by 5:\n",
            "[120, 605, 500]\n"
          ]
        }
      ],
      "source": [
        "#1 \n",
        "import random\n",
        "\n",
        "count = 0\n",
        "results = []\n",
        "\n",
        "while count < 3:\n",
        "    number = random.randint(100, 999)\n",
        "    if number % 5 == 0:\n",
        "        results.append(number)\n",
        "        count += 1\n",
        "\n",
        "print(\"Generating 3 random integer numbers between 100 and 999 divisible by 5:\")\n",
        "print(results)"
      ]
    },
    {
      "cell_type": "code",
      "source": [
        "#2\n",
        "import numpy as np\n",
        "import matplotlib.pyplot as plt\n",
        "\n",
        "# Parameters\n",
        "loc = 10\n",
        "scale = 1\n",
        "size = 1000\n",
        "\n",
        "# Generate samples from logistic distribution\n",
        "samples = np.random.logistic(loc=loc, scale=scale, size=size)\n",
        "\n",
        "# Plot the samples\n",
        "plt.hist(samples, bins=30, density=True, alpha=0.7)\n",
        "plt.xlabel('Value')\n",
        "plt.ylabel('Frequency')\n",
        "plt.title('Samples from Logistic Distribution')\n",
        "plt.grid(True)\n",
        "plt.show()"
      ],
      "metadata": {
        "colab": {
          "base_uri": "https://localhost:8080/",
          "height": 472
        },
        "id": "7l4DY1u2MWYC",
        "outputId": "e11c21de-6aa1-447a-dd6d-11ce9eff3fb6"
      },
      "execution_count": 2,
      "outputs": [
        {
          "output_type": "display_data",
          "data": {
            "text/plain": [
              "<Figure size 640x480 with 1 Axes>"
            ],
            "image/png": "[encoded data removed]"
          },
          "metadata": {}
        }
      ]
    },
    {
      "cell_type": "code",
      "source": [
        "#3 \n",
        "import secrets\n",
        "\n",
        "# Generate a 6-digit random OTP\n",
        "otp = secrets.randbelow(10**6)\n",
        "\n",
        "# Ensure the OTP is exactly 6 digits by zero-padding if necessary\n",
        "otp = str(otp).zfill(6)\n",
        "\n",
        "print(\"Secure random OTP is:\", otp)"
      ],
      "metadata": {
        "colab": {
          "base_uri": "https://localhost:8080/"
        },
        "id": "loIS3yOhMuP_",
        "outputId": "5be9216d-1061-4e1c-9bc3-7cb6b557e44c"
      },
      "execution_count": 3,
      "outputs": [
        {
          "output_type": "stream",
          "name": "stdout",
          "text": [
            "Secure random OTP is: 928717\n"
          ]
        }
      ]
    },
    {
      "cell_type": "code",
      "source": [
        "#4\n",
        "import random\n",
        "\n",
        "# Given string\n",
        "given_string = \"Simulation and modeling\"\n",
        "\n",
        "# Pick a random character from the given string\n",
        "random_char = random.choice(given_string)\n",
        "\n",
        "print(\"Random character is:\", random_char)"
      ],
      "metadata": {
        "colab": {
          "base_uri": "https://localhost:8080/"
        },
        "id": "RQPNhVGFM67N",
        "outputId": "f1a63977-922a-4fac-d896-c6fd23dff059"
      },
      "execution_count": 4,
      "outputs": [
        {
          "output_type": "stream",
          "name": "stdout",
          "text": [
            "Random character is: m\n"
          ]
        }
      ]
    },
    {
      "cell_type": "code",
      "source": [
        "#5\n",
        "import string\n",
        "import random\n",
        "\n",
        "# Define the character set\n",
        "characters = string.ascii_letters\n",
        "\n",
        "# Generate a random string\n",
        "random_string = ''.join(random.choice(characters) for _ in range(5))\n",
        "\n",
        "# Print the random string\n",
        "print(\"Random String is:\", random_string)"
      ],
      "metadata": {
        "colab": {
          "base_uri": "https://localhost:8080/"
        },
        "id": "S3vSIvNkNGnc",
        "outputId": "45b91335-75d7-48f5-fe90-8e0088004618"
      },
      "execution_count": 5,
      "outputs": [
        {
          "output_type": "stream",
          "name": "stdout",
          "text": [
            "Random String is: lpdLd\n"
          ]
        }
      ]
    },
    {
      "cell_type": "code",
      "source": [
        "#6\n",
        "import string\n",
        "import random\n",
        "\n",
        "# Define the character sets\n",
        "uppercase_letters = string.ascii_uppercase\n",
        "digits = string.digits\n",
        "special_symbols = string.punctuation\n",
        "\n",
        "# Generate the password\n",
        "password = (\n",
        "    random.choice(uppercase_letters) +\n",
        "    random.choice(uppercase_letters) +\n",
        "    random.choice(digits) +\n",
        "    random.choice(special_symbols) +\n",
        "    ''.join(random.choice(string.ascii_letters + string.digits + string.punctuation) for _ in range(6))\n",
        ")\n",
        "\n",
        "# Shuffle the password to ensure random placement of characters\n",
        "password_list = list(password)\n",
        "random.shuffle(password_list)\n",
        "password = ''.join(password_list)\n",
        "\n",
        "# Print the password\n",
        "print(\"Password is:\", password)"
      ],
      "metadata": {
        "colab": {
          "base_uri": "https://localhost:8080/"
        },
        "id": "YZwJNuNcNQxl",
        "outputId": "a474f7ff-1251-4cc2-91bf-452c538e02b7"
      },
      "execution_count": 6,
      "outputs": [
        {
          "output_type": "stream",
          "name": "stdout",
          "text": [
            "Password is: HRg\",1Y'-g\n"
          ]
        }
      ]
    },
    {
      "cell_type": "code",
      "source": [
        "#7\n",
        "import numpy as np\n",
        "\n",
        "# Generate evenly spaced values from 0 to 9\n",
        "original_array = np.arange(9)\n",
        "\n",
        "# Reshape the array into a 3x3 matrix\n",
        "reshaped_array = original_array.reshape(3, 3)\n",
        "\n",
        "# Randomly permute the array\n",
        "permuted_array = np.random.permutation(reshaped_array)\n",
        "\n",
        "# Print the permuted array\n",
        "print(permuted_array)"
      ],
      "metadata": {
        "colab": {
          "base_uri": "https://localhost:8080/"
        },
        "id": "k7OSPdSfNcXN",
        "outputId": "bb699d94-34d0-4255-b67b-66f9a82bea7b"
      },
      "execution_count": 7,
      "outputs": [
        {
          "output_type": "stream",
          "name": "stdout",
          "text": [
            "[[6 7 8]\n",
            " [3 4 5]\n",
            " [0 1 2]]\n"
          ]
        }
      ]
    },
    {
      "cell_type": "code",
      "source": [
        "#8\n",
        "import secrets\n",
        "import string\n",
        "\n",
        "# Generate a random secure token of 64 bytes\n",
        "secure_token = secrets.token_hex(32)\n",
        "\n",
        "# Generate a random URL\n",
        "url_characters = string.ascii_letters + string.digits + '-_'\n",
        "random_url = ''.join(secrets.choice(url_characters) for _ in range(64))\n",
        "\n",
        "# Print the random secure token and URL\n",
        "print(\"Random secure Hexadecimal token:\", secure_token)\n",
        "print(\"Random secure URL:\", random_url)"
      ],
      "metadata": {
        "colab": {
          "base_uri": "https://localhost:8080/"
        },
        "id": "sXnsKxKANrhw",
        "outputId": "2e4956fa-546d-4f38-8c85-efb4e2168679"
      },
      "execution_count": 8,
      "outputs": [
        {
          "output_type": "stream",
          "name": "stdout",
          "text": [
            "Random secure Hexadecimal token: b99ad0779a6233cd42c425174cf3ed29eae7841c1602e1ab07d713172cbabcbf\n",
            "Random secure URL: Ho05PmpNffP5Hh4x2-GJaL6U24wkAQU-XVl4RzZzZ0vJIN_zgci0kb1iZPwaLi1O\n"
          ]
        }
      ]
    },
    {
      "cell_type": "code",
      "source": [
        "#9\n",
        "import random\n",
        "\n",
        "# Set the seed value for the random number generator\n",
        "random.seed(42)\n",
        "\n",
        "# Generate the random number five times\n",
        "for _ in range(5):\n",
        "    random_number = random.randint(1, 6)\n",
        "    print(random_number)"
      ],
      "metadata": {
        "colab": {
          "base_uri": "https://localhost:8080/"
        },
        "id": "MFDFhQmmN4TK",
        "outputId": "e19fe774-861f-499e-cb8e-d7faffd29de0"
      },
      "execution_count": 9,
      "outputs": [
        {
          "output_type": "stream",
          "name": "stdout",
          "text": [
            "6\n",
            "1\n",
            "1\n",
            "6\n",
            "3\n"
          ]
        }
      ]
    },
    {
      "cell_type": "code",
      "source": [
        "#10\n",
        "import random\n",
        "\n",
        "def guess_the_number():\n",
        "    # Welcome the player and ask for their name\n",
        "    name = input(\"Hi! What is your name? \")\n",
        "    print(\"Welcome, \" + name + \"! I am thinking of an integer between 1 and 20.\")\n",
        "\n",
        "    # Generate a random number between 1 and 20\n",
        "    secret_number = random.randint(1, 20)\n",
        "    num_guesses = 0\n",
        "\n",
        "    # Allow the player to make up to 6 guesses\n",
        "    while num_guesses < 6:\n",
        "        # Take a guess from the player\n",
        "        guess = int(input(\"Take a guess and type the integer? \"))\n",
        "        num_guesses += 1\n",
        "\n",
        "        # Check if the guess is too high, too low, or correct\n",
        "        if guess < secret_number:\n",
        "            print(\"Your guess is too low.\")\n",
        "        elif guess > secret_number:\n",
        "            print(\"Your guess is too high.\")\n",
        "        else:\n",
        "            print(\"Well done \" + name + \"! You guessed my number in \" + str(num_guesses) + \" guesses!\")\n",
        "            return\n",
        "\n",
        "    # If the player couldn't guess the number within 6 attempts\n",
        "    print(\"Sorry, \" + name + \"! You couldn't guess my number. It was \" + str(secret_number) + \".\")\n",
        "\n",
        "# Start the game\n",
        "guess_the_number()"
      ],
      "metadata": {
        "colab": {
          "base_uri": "https://localhost:8080/"
        },
        "id": "DgXAPpHOOD3q",
        "outputId": "a245a49e-f1b2-46fc-815e-19063331009d"
      },
      "execution_count": 10,
      "outputs": [
        {
          "output_type": "stream",
          "name": "stdout",
          "text": [
            "Hi! What is your name? 10\n",
            "Welcome, 10! I am thinking of an integer between 1 and 20.\n",
            "Take a guess and type the integer? 15\n",
            "Your guess is too high.\n",
            "Take a guess and type the integer? 6\n",
            "Your guess is too low.\n",
            "Take a guess and type the integer? 8\n",
            "Well done 10! You guessed my number in 3 guesses!\n"
          ]
        }
      ]
    }
  ]
}