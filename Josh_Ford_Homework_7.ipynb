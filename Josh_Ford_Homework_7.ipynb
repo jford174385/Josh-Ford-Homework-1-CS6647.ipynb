{
  "nbformat": 4,
  "nbformat_minor": 0,
  "metadata": {
    "colab": {
      "provenance": [],
      "authorship_tag": "ABX9TyOXpt+pMfV/NbDsdGc22FmJ",
      "include_colab_link": true
    },
    "kernelspec": {
      "name": "python3",
      "display_name": "Python 3"
    },
    "language_info": {
      "name": "python"
    }
  },
  "cells": [
    {
      "cell_type": "markdown",
      "metadata": {
        "id": "view-in-github",
        "colab_type": "text"
      },
      "source": [
        "<a href=\"https://colab.research.google.com/github/jford174385/Josh-Ford-Homework-1-CS6647.ipynb/blob/main/Josh_Ford_Homework_7.ipynb\" target=\"_parent\"><img src=\"https://colab.research.google.com/assets/colab-badge.svg\" alt=\"Open In Colab\"/></a>"
      ]
    },
    {
      "cell_type": "code",
      "execution_count": 2,
      "metadata": {
        "colab": {
          "base_uri": "https://localhost:8080/"
        },
        "id": "OZBUes3D8yuA",
        "outputId": "52db28b0-9064-4054-e68d-8d6d2b6b7b34"
      },
      "outputs": [
        {
          "output_type": "stream",
          "name": "stdout",
          "text": [
            "Optimal L: 3.014719041316611e+104\n",
            "Optimal W: 3.0147190413166106e+104\n",
            "Optimal H: 3.01471904131661e+104\n",
            "Optimal Volume: inf\n",
            "Surface Area: -5.4531185388461666e+209\n"
          ]
        },
        {
          "output_type": "stream",
          "name": "stderr",
          "text": [
            "<ipython-input-2-e174f0a9ac35>:6: RuntimeWarning: overflow encountered in double_scalars\n",
            "  volume = L * W * H\n",
            "/usr/local/lib/python3.10/dist-packages/scipy/optimize/_numdiff.py:576: RuntimeWarning: invalid value encountered in subtract\n",
            "  df = fun(x) - f0\n"
          ]
        }
      ],
      "source": [
        "from scipy.optimize import minimize\n",
        "\n",
        "def objective_function(x):\n",
        "    # x contains [L, W, H]\n",
        "    L, W, H = x\n",
        "    volume = L * W * H\n",
        "    return -volume  # We want to maximize the volume, so we return the negative of it.\n",
        "\n",
        "def constraint_function(x):\n",
        "    # x contains [L, W, H]\n",
        "    L, W, H = x\n",
        "    surface_area = 2 * (L * W + L * H + W * H)\n",
        "    return surface_area - 10  # Constraint: surface area <= 10\n",
        "\n",
        "# Initial guess for L, W, H\n",
        "initial_guess = [1, 1, 1]\n",
        "\n",
        "# Bounds for L, W, H (non-negative values)\n",
        "bounds = [(0, None), (0, None), (0, None)]\n",
        "\n",
        "# Constraints\n",
        "constraint = {'type': 'ineq', 'fun': constraint_function}\n",
        "\n",
        "# Optimization using SciPy's minimize function\n",
        "result = minimize(objective_function, initial_guess, method='SLSQP', bounds=bounds, constraints=constraint)\n",
        "\n",
        "# Extracting the optimal values\n",
        "optimal_L, optimal_W, optimal_H = result.x\n",
        "optimal_volume = -result.fun  # Convert back to the actual volume\n",
        "optimal_surface_area = 10 - constraint_function(result.x)  # Calculate the actual surface area\n",
        "\n",
        "# Print the results\n",
        "print(\"Optimal L:\", optimal_L)\n",
        "print(\"Optimal W:\", optimal_W)\n",
        "print(\"Optimal H:\", optimal_H)\n",
        "print(\"Optimal Volume:\", optimal_volume)\n",
        "print(\"Surface Area:\", optimal_surface_area)\n"
      ]
    }
  ]
}