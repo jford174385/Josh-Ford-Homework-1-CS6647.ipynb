{
  "nbformat": 4,
  "nbformat_minor": 0,
  "metadata": {
    "colab": {
      "provenance": [],
      "authorship_tag": "ABX9TyM9mlOQmTHTYyjJ3XF3dCk0",
      "include_colab_link": true
    },
    "kernelspec": {
      "name": "python3",
      "display_name": "Python 3"
    },
    "language_info": {
      "name": "python"
    }
  },
  "cells": [
    {
      "cell_type": "markdown",
      "metadata": {
        "id": "view-in-github",
        "colab_type": "text"
      },
      "source": [
        "<a href=\"https://colab.research.google.com/github/jford174385/Josh-Ford-Homework-1-CS6647.ipynb/blob/main/josh_ford_homework_3.ipynb\" target=\"_parent\"><img src=\"https://colab.research.google.com/assets/colab-badge.svg\" alt=\"Open In Colab\"/></a>"
      ]
    },
    {
      "cell_type": "code",
      "execution_count": null,
      "metadata": {
        "id": "Gqa-a1a-s5Ly"
      },
      "outputs": [],
      "source": [
        "#1 \n",
        "import scipy.stats"
      ]
    },
    {
      "cell_type": "code",
      "source": [
        "#2 \n",
        "import scipy.stats\n",
        "import numpy as np\n",
        "\n",
        "low = 0\n",
        "high = 10\n",
        "\n",
        "data = scipy.stats.uniform.rvs(loc=low, scale=high-low, size=100000)\n",
        "\n",
        "print(data[:10])\n",
        "\n",
        "mean = np.mean(data)\n",
        "std_dev = np.std(data)\n",
        "\n",
        "print(\"Mean:\", mean)\n",
        "print(\"Standard Deviation:\", std_dev)"
      ],
      "metadata": {
        "colab": {
          "base_uri": "https://localhost:8080/"
        },
        "id": "AIe5GPY9ttyf",
        "outputId": "bba20429-37af-40e3-9d64-e173808e3d58"
      },
      "execution_count": null,
      "outputs": [
        {
          "output_type": "stream",
          "name": "stdout",
          "text": [
            "[4.55872439 0.20668344 0.71891115 4.64480644 4.78211462 6.23891222\n",
            " 7.42732421 5.47518449 3.30828625 7.71140022]\n",
            "Mean: 4.983101695492655\n",
            "Standard Deviation: 2.888639460500475\n"
          ]
        }
      ]
    },
    {
      "cell_type": "code",
      "source": [
        "#3\n",
        "import matplotlib.pyplot as plt\n",
        "import scipy.stats\n",
        "\n",
        "low = 0\n",
        "high = 10\n",
        "\n",
        "data = scipy.stats.uniform.rvs(loc=low, scale=high-low, size=100000)\n",
        "\n",
        "plt.figure(figsize=(9, 9))\n",
        "plt.hist(data, density=True, bins=50, alpha=0.7)\n",
        "plt.xlabel('Value')\n",
        "plt.ylabel('Density')\n",
        "plt.title('Density Distribution of Random Uniform Data')\n",
        "plt.xlim(-1, 11)\n",
        "plt.show()"
      ],
      "metadata": {
        "colab": {
          "base_uri": "https://localhost:8080/",
          "height": 795
        },
        "id": "h2cqh-CCt-cv",
        "outputId": "590f0f2a-c528-4cf8-873b-585cff24916b"
      },
      "execution_count": null,
      "outputs": [
        {
          "output_type": "display_data",
          "data": {
            "text/plain": [
              "<Figure size 900x900 with 1 Axes>"
            ],
            "image/png": "[encoded data removed]"
          },
          "metadata": {}
        }
      ]
    },
    {
      "cell_type": "code",
      "source": [
        "#4 \n",
        "import scipy.stats\n",
        "\n",
        "# Set the range of the uniform distribution\n",
        "low = 0\n",
        "high = 10\n",
        "\n",
        "# Calculate the CDF for the range from 0 to 2.5\n",
        "x = 2.5\n",
        "cdf = scipy.stats.uniform.cdf(x, loc=low, scale=high-low)\n",
        "\n",
        "print(\"CDF at x =\", x, \":\", cdf)"
      ],
      "metadata": {
        "colab": {
          "base_uri": "https://localhost:8080/"
        },
        "id": "aAVJxwwPuZFm",
        "outputId": "404f0028-cb4e-4b26-e069-6138bd023ce1"
      },
      "execution_count": null,
      "outputs": [
        {
          "output_type": "stream",
          "name": "stdout",
          "text": [
            "CDF at x = 2.5 : 0.25\n"
          ]
        }
      ]
    },
    {
      "cell_type": "code",
      "source": [
        "#5\n",
        "import scipy.stats\n",
        "\n",
        "# Set the range of the uniform distribution\n",
        "low = 0\n",
        "high = 10\n",
        "\n",
        "# Calculate the quantile for the probability of 40%\n",
        "probability = 0.4\n",
        "quantile = scipy.stats.uniform.ppf(probability, loc=low, scale=high-low)\n",
        "\n",
        "print(\"Quantile for probability\", probability, \":\", quantile)"
      ],
      "metadata": {
        "colab": {
          "base_uri": "https://localhost:8080/"
        },
        "id": "t3JzA3FJueiP",
        "outputId": "c0c166c9-1c29-470a-ab27-193d0ae45325"
      },
      "execution_count": null,
      "outputs": [
        {
          "output_type": "stream",
          "name": "stdout",
          "text": [
            "Quantile for probability 0.4 : 4.0\n"
          ]
        }
      ]
    },
    {
      "cell_type": "code",
      "source": [
        "#6\n",
        "import scipy.stats\n",
        "\n",
        "# Set the range of the uniform distribution\n",
        "low = 0\n",
        "high = 10\n",
        "\n",
        "# Calculate probability density for different x values\n",
        "x_values = [-1, 0, 2.5, 5, 10, 11]\n",
        "\n",
        "for x in x_values:\n",
        "    if low <= x <= high:\n",
        "        density = scipy.stats.uniform.pdf(x, loc=low, scale=high-low)\n",
        "    else:\n",
        "        density = 0\n",
        "    print(\"x =\", x, \", Probability Density =\", density)"
      ],
      "metadata": {
        "colab": {
          "base_uri": "https://localhost:8080/"
        },
        "id": "9hggi6IKuzi3",
        "outputId": "66bb9606-8505-484e-8bb8-06c5a94cb868"
      },
      "execution_count": null,
      "outputs": [
        {
          "output_type": "stream",
          "name": "stdout",
          "text": [
            "x = -1 , Probability Density = 0\n",
            "x = 0 , Probability Density = 0.1\n",
            "x = 2.5 , Probability Density = 0.1\n",
            "x = 5 , Probability Density = 0.1\n",
            "x = 10 , Probability Density = 0.1\n",
            "x = 11 , Probability Density = 0\n"
          ]
        }
      ]
    },
    {
      "cell_type": "code",
      "source": [
        "#7\n",
        "import scipy.stats\n",
        "\n",
        "low = 0\n",
        "high = 10\n",
        "\n",
        "uniform_dist = scipy.stats.uniform(loc=low, scale=high-low)\n",
        "\n",
        "median = uniform_dist.median()\n",
        "print(\"Median:\", median)\n",
        "\n",
        "mean = uniform_dist.mean()\n",
        "print(\"Mean:\", mean)\n",
        "\n",
        "variance = uniform_dist.var()\n",
        "print(\"Variance:\", variance)\n",
        "\n",
        "std_dev = uniform_dist.std()\n",
        "print(\"Standard Deviation:\", std_dev)"
      ],
      "metadata": {
        "colab": {
          "base_uri": "https://localhost:8080/"
        },
        "id": "1YSOytv8vNHY",
        "outputId": "13fa1293-ece5-43cb-addb-a08e379cf646"
      },
      "execution_count": null,
      "outputs": [
        {
          "output_type": "stream",
          "name": "stdout",
          "text": [
            "Median: 5.0\n",
            "Mean: 5.0\n",
            "Variance: 8.333333333333332\n",
            "Standard Deviation: 2.8867513459481287\n"
          ]
        }
      ]
    },
    {
      "cell_type": "code",
      "source": [
        "#8\n",
        "import scipy.stats\n",
        "\n",
        "normal_dist = scipy.stats.norm()\n",
        "\n",
        "below_minus_one = normal_dist.cdf(-1) * 100\n",
        "\n",
        "above_one = (1 - normal_dist.cdf(1)) * 100\n",
        "\n",
        "between_minus_one_and_one = (normal_dist.cdf(1) - normal_dist.cdf(-1)) * 100\n",
        "\n",
        "print(\"Percentage of data below -1:\", below_minus_one)\n",
        "print(\"Percentage of data above 1:\", above_one)\n",
        "print(\"Percentage of data between -1 and 1:\", between_minus_one_and_one)"
      ],
      "metadata": {
        "colab": {
          "base_uri": "https://localhost:8080/"
        },
        "id": "pgwurD_hvRCL",
        "outputId": "8c746332-d5ea-4d10-d310-e2d78c5fd49f"
      },
      "execution_count": null,
      "outputs": [
        {
          "output_type": "stream",
          "name": "stdout",
          "text": [
            "Percentage of data below -1: 15.865525393145708\n",
            "Percentage of data above 1: 15.865525393145708\n",
            "Percentage of data between -1 and 1: 68.26894921370858\n"
          ]
        }
      ]
    },
    {
      "cell_type": "code",
      "source": [
        "#9\n",
        "import scipy.stats\n",
        "\n",
        "normal_dist = scipy.stats.norm()\n",
        "\n",
        "cutoff_2_5 = normal_dist.ppf(0.025)\n",
        "\n",
        "cutoff_97_5 = normal_dist.ppf(0.975)\n",
        "\n",
        "print(\"2.5% Cutoff:\", cutoff_2_5)\n",
        "print(\"97.5% Cutoff:\", cutoff_97_5)"
      ],
      "metadata": {
        "colab": {
          "base_uri": "https://localhost:8080/"
        },
        "id": "ENehXM7svuac",
        "outputId": "d45be203-fd4c-4c52-8ed8-65ba90d4e689"
      },
      "execution_count": null,
      "outputs": [
        {
          "output_type": "stream",
          "name": "stdout",
          "text": [
            "2.5% Cutoff: -1.9599639845400545\n",
            "97.5% Cutoff: 1.959963984540054\n"
          ]
        }
      ]
    },
    {
      "cell_type": "code",
      "source": [
        "#10\n",
        "import scipy.stats\n",
        "\n",
        "number_of_flips_per_trial = 10\n",
        "number_of_trials = 10000\n",
        "success_probability = 0.5\n",
        "\n",
        "fair_coin_flips = scipy.stats.binom.rvs(n=number_of_flips_per_trial,\n",
        "                                        p=success_probability,\n",
        "                                        size=number_of_trials)\n",
        "\n",
        "print(fair_coin_flips)\n"
      ],
      "metadata": {
        "colab": {
          "base_uri": "https://localhost:8080/"
        },
        "id": "gwKEe83xv3Np",
        "outputId": "5ae2594c-c684-4edb-a46e-a3ec9c09f1ea"
      },
      "execution_count": null,
      "outputs": [
        {
          "output_type": "stream",
          "name": "stdout",
          "text": [
            "[4 4 8 ... 5 4 4]\n"
          ]
        }
      ]
    },
    {
      "cell_type": "code",
      "source": [
        "#11\n",
        "import scipy.stats\n",
        "import matplotlib.pyplot as plt\n",
        "\n",
        "number_of_flips_per_trial = 10\n",
        "number_of_trials = 10000\n",
        "success_probability = 0.8\n",
        "\n",
        "coin_flips = scipy.stats.binom.rvs(n=number_of_flips_per_trial,\n",
        "                                   p=success_probability,\n",
        "                                   size=number_of_trials)\n",
        "\n",
        "plt.hist(coin_flips, bins=range(number_of_flips_per_trial + 2), align='left', edgecolor='black')\n",
        "plt.xlabel('Number of Successes')\n",
        "plt.ylabel('Frequency')\n",
        "plt.title('Binomial Distribution (Success Rate: 0.8)')\n",
        "plt.show()"
      ],
      "metadata": {
        "colab": {
          "base_uri": "https://localhost:8080/",
          "height": 472
        },
        "id": "t4xfPW9pw2j4",
        "outputId": "5b1a6eab-95a6-4b75-bfd5-062680f45022"
      },
      "execution_count": null,
      "outputs": [
        {
          "output_type": "display_data",
          "data": {
            "text/plain": [
              "<Figure size 640x480 with 1 Axes>"
            ],
            "image/png": "[encoded data removed]"
          },
          "metadata": {}
        }
      ]
    },
    {
      "cell_type": "code",
      "source": [
        "#12\n",
        "import scipy.stats\n",
        "\n",
        "number_of_flips_per_trial = 10\n",
        "success_probability = 0.8\n",
        "\n",
        "probability = scipy.stats.binom.cdf(5, n=number_of_flips_per_trial, p=success_probability)\n",
        "\n",
        "print(\"Probability of achieving 5 heads or less:\", probability)"
      ],
      "metadata": {
        "colab": {
          "base_uri": "https://localhost:8080/"
        },
        "id": "HHgrLIBbxJrc",
        "outputId": "43506905-65fd-4dbb-c0a3-398d1ec99ec5"
      },
      "execution_count": null,
      "outputs": [
        {
          "output_type": "stream",
          "name": "stdout",
          "text": [
            "Probability of achieving 5 heads or less: 0.03279349759999997\n"
          ]
        }
      ]
    },
    {
      "cell_type": "code",
      "source": [
        "#13\n",
        "import scipy.stats\n",
        "\n",
        "number_of_flips_per_trial = 10\n",
        "success_probability = 0.8\n",
        "\n",
        "probability = scipy.stats.binom.sf(8, n=number_of_flips_per_trial, p=success_probability)\n",
        "\n",
        "print(\"Probability of achieving 9 heads or more:\", probability)\n"
      ],
      "metadata": {
        "colab": {
          "base_uri": "https://localhost:8080/"
        },
        "id": "7WDpY_oRxWhY",
        "outputId": "7a04cd73-6da1-4fff-dcf1-875e4b2022ca"
      },
      "execution_count": null,
      "outputs": [
        {
          "output_type": "stream",
          "name": "stdout",
          "text": [
            "Probability of achieving 9 heads or more: 0.37580963840000015\n"
          ]
        }
      ]
    },
    {
      "cell_type": "code",
      "source": [
        "#14\n",
        "import scipy.stats\n",
        "\n",
        "number_of_flips_per_trial = 10\n",
        "success_probability = 0.5\n",
        "\n",
        "probability = scipy.stats.binom.pmf(5, n=number_of_flips_per_trial, p=success_probability)\n",
        "\n",
        "print(\"Probability mass at 5 heads:\", probability)\n"
      ],
      "metadata": {
        "colab": {
          "base_uri": "https://localhost:8080/"
        },
        "id": "9Qwn4eBqxnnm",
        "outputId": "1eac0d7c-892e-49f2-c3e0-904e92d03f43"
      },
      "execution_count": null,
      "outputs": [
        {
          "output_type": "stream",
          "name": "stdout",
          "text": [
            "Probability mass at 5 heads: 0.24609375000000003\n"
          ]
        }
      ]
    },
    {
      "cell_type": "code",
      "source": [
        "#15\n",
        "import scipy.stats\n",
        "\n",
        "number_of_flips_per_trial = 10\n",
        "success_probability = 0.8\n",
        "\n",
        "probability = scipy.stats.binom.pmf(8, n=number_of_flips_per_trial, p=success_probability)\n",
        "\n",
        "print(\"Probability mass at 8 heads:\", probability)\n"
      ],
      "metadata": {
        "colab": {
          "base_uri": "https://localhost:8080/"
        },
        "id": "8MF99ob0xxAp",
        "outputId": "d83bb5b7-7a40-4abe-a759-71924b0d4495"
      },
      "execution_count": null,
      "outputs": [
        {
          "output_type": "stream",
          "name": "stdout",
          "text": [
            "Probability mass at 8 heads: 0.30198988799999993\n"
          ]
        }
      ]
    }
  ]
}