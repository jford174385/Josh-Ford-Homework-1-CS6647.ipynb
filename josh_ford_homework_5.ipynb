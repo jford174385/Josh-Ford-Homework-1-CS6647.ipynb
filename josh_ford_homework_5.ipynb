{
  "nbformat": 4,
  "nbformat_minor": 0,
  "metadata": {
    "colab": {
      "provenance": [],
      "authorship_tag": "ABX9TyNehg9p1uMVP5tI6cBTT5Im",
      "include_colab_link": true
    },
    "kernelspec": {
      "name": "python3",
      "display_name": "Python 3"
    },
    "language_info": {
      "name": "python"
    }
  },
  "cells": [
    {
      "cell_type": "markdown",
      "metadata": {
        "id": "view-in-github",
        "colab_type": "text"
      },
      "source": [
        "<a href=\"https://colab.research.google.com/github/jford174385/Josh-Ford-Homework-1-CS6647.ipynb/blob/main/josh_ford_homework_5.ipynb\" target=\"_parent\"><img src=\"https://colab.research.google.com/assets/colab-badge.svg\" alt=\"Open In Colab\"/></a>"
      ]
    },
    {
      "cell_type": "code",
      "execution_count": null,
      "metadata": {
        "colab": {
          "base_uri": "https://localhost:8080/"
        },
        "id": "YiHAnj0APfbX",
        "outputId": "02f4cdf9-70d4-4f45-cc5b-4012fa88b4b4"
      },
      "outputs": [
        {
          "output_type": "stream",
          "name": "stdout",
          "text": [
            "Probabilities on the 15th day:\n",
            "Rest: 0.111111111111112\n",
            "Sweeties: 0.3030303030303059\n",
            "Exercise: 0.5858585858585819\n",
            "\n",
            "State and probability after 10000 days:\n",
            "Rest: 0.11111111111111108\n",
            "Sweeties: 0.3030303030303029\n",
            "Exercise: 0.5858585858585856\n"
          ]
        }
      ],
      "source": [
        "#1 and #2\n",
        "import numpy as np\n",
        "\n",
        "# Transition probabilities\n",
        "transition_matrix = np.array([[0.2, 0.6, 0.2],\n",
        "                             [0.1, 0.2, 0.7],\n",
        "                             [0.1, 0.3, 0.6]])\n",
        "\n",
        "# Starting state: Rest\n",
        "initial_state = np.array([1, 0, 0])  # [Rest, Sweeties, Exercise]\n",
        "\n",
        "# Probability calculation function\n",
        "def calculate_probabilities(transitions, initial_state, num_steps):\n",
        "    current_state = initial_state\n",
        "    for _ in range(num_steps):\n",
        "        current_state = np.dot(current_state, transitions)\n",
        "    return current_state\n",
        "\n",
        "# 1. Probability of possible activities on the 15th day\n",
        "probabilities_15th_day = calculate_probabilities(transition_matrix, initial_state, 15)\n",
        "print(\"Probabilities on the 15th day:\")\n",
        "print(\"Rest:\", probabilities_15th_day[0])\n",
        "print(\"Sweeties:\", probabilities_15th_day[1])\n",
        "print(\"Exercise:\", probabilities_15th_day[2])\n",
        "\n",
        "# 2. State and probability after 10000 days\n",
        "probabilities_10000_days = calculate_probabilities(transition_matrix, initial_state, 10000)\n",
        "print(\"\\nState and probability after 10000 days:\")\n",
        "print(\"Rest:\", probabilities_10000_days[0])\n",
        "print(\"Sweeties:\", probabilities_10000_days[1])\n",
        "print(\"Exercise:\", probabilities_10000_days[2])\n"
      ]
    },
    {
      "cell_type": "markdown",
      "source": [
        "Observations:\n",
        "\n",
        "- From the calculations, you can observe the probabilities of being in each state after a specific number of days.\n",
        "- After a sufficient number of days (in this case, 10000 days), the probabilities tend to stabilize or converge to steady-state probabilities.\n",
        "- In this specific scenario, the steady-state probabilities after 10000 days can be observed and compared to the probabilities on the 15th day to see how the system reaches a stable distribution over time."
      ],
      "metadata": {
        "id": "W6butzzQQjeR"
      }
    }
  ]
}